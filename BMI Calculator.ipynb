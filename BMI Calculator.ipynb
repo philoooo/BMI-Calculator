{
 "cells": [
  {
   "cell_type": "markdown",
   "id": "7a7a7660-7054-4133-9a15-5d8a14595c0c",
   "metadata": {},
   "source": [
    "BMI Calculator"
   ]
  },
  {
   "cell_type": "markdown",
   "id": "22ee59d7-3e59-40a3-8b5d-9b8b18b22a55",
   "metadata": {},
   "source": [
    "Data Source: Calculate your BMI | NHLBI, NIH. (n.d.). NHLBI, NIH. https://www.nhlbi.nih.gov/calculate-your-bmi"
   ]
  },
  {
   "cell_type": "code",
   "execution_count": 32,
   "id": "f32cc33a-97ab-492e-b54e-d13259076740",
   "metadata": {},
   "outputs": [
    {
     "name": "stdin",
     "output_type": "stream",
     "text": [
      "Enter your weight in pounds: 140\n"
     ]
    },
    {
     "name": "stdout",
     "output_type": "stream",
     "text": [
      "Enter your height in feet and inches.\n"
     ]
    },
    {
     "name": "stdin",
     "output_type": "stream",
     "text": [
      "Feet:  5\n",
      "Inches:  5\n"
     ]
    },
    {
     "name": "stdout",
     "output_type": "stream",
     "text": [
      "23.3\n",
      "You are healthy!\n"
     ]
    }
   ],
   "source": [
    "weight = int(input(\"Enter your weight in pounds:\"))\n",
    "print(\"Enter your height in feet and inches.\")\n",
    "feet = int(input(\"Feet: \"))\n",
    "inches = int(input(\"Inches: \"))\n",
    "height = (feet * 12) + inches\n",
    "BMI = (weight * 703) / (height**2)\n",
    "print(round(BMI,1))\n",
    "if BMI > 0:\n",
    "    if(BMI < 18.5):\n",
    "        print(\"You are underweight.\")\n",
    "    elif(BMI <= 24.9):\n",
    "        print(\"You are healthy!\")\n",
    "    elif(BMI <= 29.9):\n",
    "        print(\"You are overweight.\")\n",
    "    elif(BMI > 30.0):\n",
    "        print(\"You are obese.\")\n",
    "else:\n",
    "    print(\"Please enter a valid number.\")"
   ]
  },
  {
   "cell_type": "code",
   "execution_count": 36,
   "id": "417d8c62-c909-4bbd-b187-1944711903ad",
   "metadata": {},
   "outputs": [
    {
     "name": "stdout",
     "output_type": "stream",
     "text": [
      "\n",
      "\n",
      "BMI Categories and Ranges:\n",
      "\n",
      "BMI Category -> BMI Range\n",
      "Underweight\t-> Below 18.5\n",
      "Healthy ->\t18.5 – 24.9\n",
      "Overweight -> 25.0 – 29.9\n",
      "Obesity\t-> 30.0 or above\n",
      "\n",
      "\n"
     ]
    }
   ],
   "source": [
    "print( \"\"\"\n",
    "\n",
    "BMI Categories and Ranges:\n",
    "\n",
    "BMI Category -> BMI Range\n",
    "Underweight\t-> Below 18.5\n",
    "Healthy ->\t18.5 – 24.9\n",
    "Overweight -> 25.0 – 29.9\n",
    "Obesity\t-> 30.0 or above\n",
    "\n",
    "\"\"\"\n",
    "     )"
   ]
  },
  {
   "cell_type": "markdown",
   "id": "3a40893c-6352-4d86-811a-ccbf81733f29",
   "metadata": {},
   "source": [
    "BMI = (weight in pounds x 703) / (height in inches x height in inches)"
   ]
  }
 ],
 "metadata": {
  "kernelspec": {
   "display_name": "Python 3 (ipykernel)",
   "language": "python",
   "name": "python3"
  },
  "language_info": {
   "codemirror_mode": {
    "name": "ipython",
    "version": 3
   },
   "file_extension": ".py",
   "mimetype": "text/x-python",
   "name": "python",
   "nbconvert_exporter": "python",
   "pygments_lexer": "ipython3",
   "version": "3.13.5"
  }
 },
 "nbformat": 4,
 "nbformat_minor": 5
}
